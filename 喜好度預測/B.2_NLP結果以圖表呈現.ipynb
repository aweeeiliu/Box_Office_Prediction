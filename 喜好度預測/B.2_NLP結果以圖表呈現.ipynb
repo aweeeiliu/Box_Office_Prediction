{
 "cells": [
  {
   "cell_type": "code",
   "execution_count": null,
   "metadata": {},
   "outputs": [],
   "source": [
    "import pandas as pd\n",
    "import matplotlib.pyplot as plt\n",
    "\n",
    "path = 'C:/Users/a2285/workspace/電影專題/outputs/roberta-base-bs-44-ep-10-cls-model/training_progress_scores.csv'\n",
    "df = pd.read_csv(path)\n",
    "\n",
    "df = df[ df['global_step'] % 2000 != 0]\n",
    "df.insert(0, 'epoch', range(1, 1 + len(df)))\n",
    "# df['epoch'] = df.index + 1\n",
    "\n",
    "print(df[ ['epoch',  'f1_score'] ])\n",
    "\n",
    "plot = df.plot.line(x='epoch', y=['train_loss', 'eval_loss'])\n",
    "plt.title('Imdb rating')\n",
    "plt.ylabel('loss')\n",
    "plt.xlabel('epoch')\n",
    "plt.legend(['train_loss', 'eval_loss'], loc='upper right')\n",
    "plt.ylim(0.0,5.0) \n",
    "plt.show()"
   ]
  }
 ],
 "metadata": {
  "language_info": {
   "name": "python"
  },
  "orig_nbformat": 4
 },
 "nbformat": 4,
 "nbformat_minor": 2
}
